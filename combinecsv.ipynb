{
 "cells": [
  {
   "cell_type": "markdown",
   "id": "187777d2",
   "metadata": {},
   "source": [
    "## Import necessary Libraries"
   ]
  },
  {
   "cell_type": "code",
   "execution_count": null,
   "id": "548f9b21",
   "metadata": {},
   "outputs": [],
   "source": [
    "import os\n",
    "import glob\n",
    "import pandas as pd"
   ]
  },
  {
   "cell_type": "markdown",
   "id": "a9d30304",
   "metadata": {},
   "source": [
    "## For CSV files combining\n",
    "### Replace quoted data with folder path containing all csv files to be combined"
   ]
  },
  {
   "cell_type": "code",
   "execution_count": null,
   "id": "e2442d3a",
   "metadata": {},
   "outputs": [],
   "source": [
    "os.chdir(\"C:/Users/2019c/Desktop/Zee data\")"
   ]
  },
  {
   "cell_type": "code",
   "execution_count": null,
   "id": "67f7316d",
   "metadata": {},
   "outputs": [],
   "source": [
    "extension = 'csv'\n",
    "all_filenames = [i for i in glob.glob('*.{}'.format(extension))]"
   ]
  },
  {
   "cell_type": "code",
   "execution_count": null,
   "id": "1bb6b43a",
   "metadata": {},
   "outputs": [],
   "source": [
    "#combine all files in the list\n",
    "combined_csv = pd.concat([pd.read_csv(f) for f in all_filenames ])\n",
    "#export to csv\n",
    "combined_csv.to_csv( \"combined_csv.csv\", index=False, encoding='utf-8-sig')"
   ]
  },
  {
   "cell_type": "markdown",
   "id": "e70204dd",
   "metadata": {},
   "source": [
    "## For Excel Files combining\n",
    "### Replace quoted data with path/directory of folder containing all excel files together"
   ]
  },
  {
   "cell_type": "code",
   "execution_count": null,
   "id": "71a24ca3",
   "metadata": {},
   "outputs": [],
   "source": [
    "os.chdir(\"C:/Users/2019c/Desktop/Zee data\")"
   ]
  },
  {
   "cell_type": "code",
   "execution_count": null,
   "id": "282f6189",
   "metadata": {},
   "outputs": [],
   "source": [
    "extension = 'xlsx'\n",
    "all_filenames = [i for i in glob.glob('*.{}'.format(extension))]"
   ]
  },
  {
   "cell_type": "code",
   "execution_count": null,
   "id": "dc9b4a1e",
   "metadata": {},
   "outputs": [],
   "source": [
    "#combine all files in the list\n",
    "combined_excel = pd.concat([pd.read_excel(f) for f in all_filenames ])\n",
    "#export to excel\n",
    "combined_excel.to_excel( \"combined_Excel.xlsx\", index=False, encoding='utf-8-sig')"
   ]
  },
  {
   "cell_type": "code",
   "execution_count": null,
   "id": "f049087c",
   "metadata": {},
   "outputs": [],
   "source": []
  }
 ],
 "metadata": {
  "kernelspec": {
   "display_name": "Python 3 (ipykernel)",
   "language": "python",
   "name": "python3"
  },
  "language_info": {
   "codemirror_mode": {
    "name": "ipython",
    "version": 3
   },
   "file_extension": ".py",
   "mimetype": "text/x-python",
   "name": "python",
   "nbconvert_exporter": "python",
   "pygments_lexer": "ipython3",
   "version": "3.9.6"
  }
 },
 "nbformat": 4,
 "nbformat_minor": 5
}
